{
 "cells": [
  {
   "cell_type": "code",
   "id": "initial_id",
   "metadata": {
    "collapsed": true,
    "ExecuteTime": {
     "end_time": "2025-05-07T20:33:26.823498Z",
     "start_time": "2025-05-07T20:33:26.790703Z"
    }
   },
   "source": [
    "import pandas as pd\n",
    "\n",
    "df = pd.read_csv(\"AA.Complete Data.csv\")\n",
    "df = df.drop(columns = [\"MW Demand\"])\n",
    "df[\"DATE & TIME\"] = pd.to_datetime(df[\"DATE & TIME\"])\n",
    "df.head()\n",
    "print(df.columns)"
   ],
   "outputs": [
    {
     "name": "stdout",
     "output_type": "stream",
     "text": [
      "Index(['DATE & TIME', 'Solar Radiation (Wh/m)2', 'UV Intensity',\n",
      "       'Atmospheric Clarity', 'Temperature (2m)', 'Humidity (2M)', 'PS',\n",
      "       'Wind Speed (10m)', 'Wind Direction (10m)', 'MW Supply'],\n",
      "      dtype='object')\n"
     ]
    }
   ],
   "execution_count": 11
  },
  {
   "metadata": {},
   "cell_type": "markdown",
   "source": [
    "## Create Lag Features <br>\n",
    "As decision trees can not understand time real data, I need to explicit tell it past values by creating new features with past data <br>\n",
    "I am creating 24 lags per feature so the tree can \"look back\" at the past 24 hours of data\n"
   ],
   "id": "4f7ea6e03128d3e1"
  },
  {
   "metadata": {
    "ExecuteTime": {
     "end_time": "2025-05-07T20:35:32.186255Z",
     "start_time": "2025-05-07T20:35:32.107611Z"
    }
   },
   "cell_type": "code",
   "source": [
    "def create_lag_features(data, columns, lags=24):\n",
    "    lagged_dfs = []  # list to store lagged DataFrames\n",
    "\n",
    "    for column in columns:\n",
    "        for lag in range(1, lags + 1):\n",
    "            lagged_col = data[column].shift(lag)\n",
    "            lagged_col.name = f\"{column}_lag{lag}\"\n",
    "            lagged_dfs.append(lagged_col)\n",
    "\n",
    "    # Combine all lagged columns into one DataFrame\n",
    "    # Helps prevent issues with pandas performance\n",
    "    lagged_features = pd.concat(lagged_dfs, axis=1)\n",
    "\n",
    "    # Combine with original data and drop NaNs caused by shifting\n",
    "    data = pd.concat([data, lagged_features], axis=1).dropna()\n",
    "\n",
    "    return data\n",
    "\n",
    "# Specify the columns to generate lags for (not including DATE & TIME)\n",
    "columns_to_lag = ['Solar Radiation (Wh/m)2', 'UV Intensity', 'Atmospheric Clarity',\n",
    "                  'Temperature (2m)', 'Humidity (2M)', 'PS', 'Wind Speed (10m)',\n",
    "                  'Wind Direction (10m)', 'MW Supply']\n",
    "\n",
    "# Create lag features for the past 24 hours\n",
    "df_lagged = create_lag_features(df, columns=columns_to_lag, lags=24)\n",
    "\n",
    "# Now I can prepare the data for training\n",
    "X = df_lagged.drop(['DATE & TIME', 'MW Supply'], axis=1)  # Drop 'DATE & TIME' and target variable 'MW Supply'\n",
    "y = df_lagged['MW Supply']  # Target variable (MW Supply)\n"
   ],
   "id": "8405fb6eb78bb143",
   "outputs": [],
   "execution_count": 14
  },
  {
   "metadata": {},
   "cell_type": "markdown",
   "source": "## Chronological Splitting The Data",
   "id": "a53e3e99198377af"
  },
  {
   "metadata": {
    "ExecuteTime": {
     "end_time": "2025-05-07T20:41:20.414266Z",
     "start_time": "2025-05-07T20:41:20.406866Z"
    }
   },
   "cell_type": "code",
   "source": [
    "n = len(X)\n",
    "\n",
    "# 80% of the data for training\n",
    "train_end = int(n * 0.8)\n",
    "\n",
    "# 10% of the data for validation (next 10%)\n",
    "val_end = int(n * 0.9)\n",
    "\n",
    "# Training set: first 80%\n",
    "X_train = X.iloc[:train_end]\n",
    "y_train = y.iloc[:train_end]\n",
    "\n",
    "# Validation set: next 10%\n",
    "X_val = X.iloc[train_end:val_end]\n",
    "y_val = y.iloc[train_end:val_end]\n",
    "\n",
    "# Test set: final 10%\n",
    "X_test = X.iloc[val_end:]\n",
    "y_test = y.iloc[val_end:]"
   ],
   "id": "ad413707304e1686",
   "outputs": [],
   "execution_count": 16
  }
 ],
 "metadata": {
  "kernelspec": {
   "display_name": "Python 3",
   "language": "python",
   "name": "python3"
  },
  "language_info": {
   "codemirror_mode": {
    "name": "ipython",
    "version": 2
   },
   "file_extension": ".py",
   "mimetype": "text/x-python",
   "name": "python",
   "nbconvert_exporter": "python",
   "pygments_lexer": "ipython2",
   "version": "2.7.6"
  }
 },
 "nbformat": 4,
 "nbformat_minor": 5
}
